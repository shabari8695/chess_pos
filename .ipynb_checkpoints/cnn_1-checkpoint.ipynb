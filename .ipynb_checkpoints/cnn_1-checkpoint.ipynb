{
 "cells": [
  {
   "cell_type": "code",
   "execution_count": 29,
   "metadata": {},
   "outputs": [],
   "source": [
    "import numpy as np\n",
    "import os\n",
    "import glob\n",
    "import re\n",
    "import matplotlib.pyplot as plt\n",
    "import matplotlib.image as mpimg\n",
    "import pydot\n",
    "from random import shuffle\n",
    "from skimage.util.shape import view_as_blocks\n",
    "from skimage import io, transform\n",
    "from sklearn.model_selection import train_test_split\n",
    "from keras.models import Sequential\n",
    "from keras.utils.vis_utils import plot_model\n",
    "from keras.layers.core import Dense, Dropout, Activation, Flatten\n",
    "from keras.layers.convolutional import Convolution2D"
   ]
  },
  {
   "cell_type": "code",
   "execution_count": 22,
   "metadata": {},
   "outputs": [],
   "source": [
    "train_size = 10000\n",
    "test_size = 3000\n",
    "\n",
    "train = glob.glob(\"train/*.jpeg\")\n",
    "test = glob.glob(\"test/*.jpeg\")\n",
    "\n",
    "shuffle(train)\n",
    "shuffle(test)\n",
    "\n",
    "train = train[:train_size]\n",
    "test = test[:test_size]\n",
    "\n",
    "piece_symbols = 'prbnkqPRBNKQ'"
   ]
  },
  {
   "cell_type": "code",
   "execution_count": 10,
   "metadata": {},
   "outputs": [
    {
     "data": {
      "text/plain": [
       "['train/4K2k-8-3N1N1q-B6b-7n-8-5B2-b3b3.jpeg',\n",
       " 'train/2r3rn-1N6-3r4-4N3-8-2bK3n-7p-r1Q1N2k.jpeg',\n",
       " 'train/5nnq-1PN2r2-1p2qn1p-Kb4q1-3r4-8-8-1k6.jpeg',\n",
       " 'train/7k-n7-5N2-b2Kq3-3r3P-2N3R1-4q3-Q5n1.jpeg',\n",
       " 'train/8-3B1Q2-8-8-6k1-2K3pr-8-5R2.jpeg']"
      ]
     },
     "execution_count": 10,
     "metadata": {},
     "output_type": "execute_result"
    }
   ],
   "source": [
    "train[:5]"
   ]
  },
  {
   "cell_type": "code",
   "execution_count": 11,
   "metadata": {},
   "outputs": [
    {
     "data": {
      "text/plain": [
       "10000"
      ]
     },
     "execution_count": 11,
     "metadata": {},
     "output_type": "execute_result"
    }
   ],
   "source": [
    "unique = set(train)\n",
    "unique = list(unique)\n",
    "len(unique)"
   ]
  },
  {
   "cell_type": "code",
   "execution_count": 12,
   "metadata": {},
   "outputs": [],
   "source": [
    "def fen_from_filename(filename):\n",
    "    base = os.path.basename(filename)\n",
    "    return os.path.splitext(base)[0]"
   ]
  },
  {
   "cell_type": "code",
   "execution_count": 13,
   "metadata": {},
   "outputs": [],
   "source": [
    "def process_image(img):\n",
    "    downsample_size = 200\n",
    "    square_size = int(downsample_size/8)\n",
    "    img_read = io.imread(img)\n",
    "    img_read = transform.resize(\n",
    "      img_read, (downsample_size, downsample_size), mode='constant')\n",
    "    tiles = view_as_blocks(img_read, block_shape=(square_size, square_size, 3))\n",
    "    tiles = tiles.squeeze(axis=2)\n",
    "    return tiles.reshape(64, square_size, square_size, 3)"
   ]
  },
  {
   "cell_type": "code",
   "execution_count": 15,
   "metadata": {},
   "outputs": [],
   "source": [
    "def onehot_from_fen(fen):\n",
    "    eye = np.eye(13)\n",
    "    output = np.empty((0, 13))\n",
    "    fen = re.sub('[-]', '', fen)\n",
    "\n",
    "    for char in fen:\n",
    "        if(char in '12345678'):\n",
    "            output = np.append(\n",
    "              output, np.tile(eye[12], (int(char), 1)), axis=0)\n",
    "        else:\n",
    "            idx = piece_symbols.index(char)\n",
    "            output = np.append(output, eye[idx].reshape((1, 13)), axis=0)\n",
    "\n",
    "    return output"
   ]
  },
  {
   "cell_type": "code",
   "execution_count": 16,
   "metadata": {},
   "outputs": [],
   "source": [
    "def fen_from_onehot(one_hot):\n",
    "    output = ''\n",
    "    for j in range(8):\n",
    "        for i in range(8):\n",
    "            if(one_hot[j][i] == 12):\n",
    "                output += ' '\n",
    "            else:\n",
    "                output += piece_symbols[one_hot[j][i]]\n",
    "        if(j != 7):\n",
    "            output += '-'\n",
    "\n",
    "    for i in range(8, 0, -1):\n",
    "        output = output.replace(' ' * i, str(i))\n",
    "\n",
    "    return output"
   ]
  },
  {
   "cell_type": "code",
   "execution_count": 17,
   "metadata": {},
   "outputs": [],
   "source": [
    "def train_gen(features, labels, batch_size):\n",
    "    for i, img in enumerate(features):\n",
    "        y = onehot_from_fen(fen_from_filename(img))\n",
    "        x = process_image(img)\n",
    "        yield x, y"
   ]
  },
  {
   "cell_type": "code",
   "execution_count": 18,
   "metadata": {},
   "outputs": [],
   "source": [
    "def pred_gen(features, batch_size):\n",
    "    for i, img in enumerate(features):\n",
    "        yield process_image(img)"
   ]
  },
  {
   "cell_type": "code",
   "execution_count": 19,
   "metadata": {},
   "outputs": [],
   "source": [
    "model = Sequential()\n",
    "model.add(Convolution2D(32, (3, 3), input_shape=(25, 25, 3), kernel_initializer='he_normal'))\n",
    "model.add(Activation('relu'))\n",
    "model.add(Flatten())\n",
    "model.add(Dense(128, kernel_initializer='he_normal'))\n",
    "model.add(Activation('relu'))\n",
    "model.add(Dropout(0.4))\n",
    "model.add(Dense(13, kernel_initializer='he_normal'))\n",
    "model.add(Activation('softmax'))"
   ]
  },
  {
   "cell_type": "code",
   "execution_count": 20,
   "metadata": {},
   "outputs": [],
   "source": [
    "model.compile(loss='categorical_crossentropy', optimizer='adam', metrics=['accuracy'])"
   ]
  },
  {
   "cell_type": "code",
   "execution_count": 23,
   "metadata": {},
   "outputs": [
    {
     "name": "stdout",
     "output_type": "stream",
     "text": [
      "Epoch 1/1\n",
      "10000/10000 [==============================] - 1370s 137ms/step - loss: 0.0433 - acc: 0.9924\n"
     ]
    },
    {
     "data": {
      "text/plain": [
       "<keras.callbacks.History at 0x10539e630>"
      ]
     },
     "execution_count": 23,
     "metadata": {},
     "output_type": "execute_result"
    }
   ],
   "source": [
    "model.fit_generator(train_gen(train, None, 64), steps_per_epoch=train_size)"
   ]
  },
  {
   "cell_type": "code",
   "execution_count": 31,
   "metadata": {},
   "outputs": [],
   "source": [
    "res = (\n",
    "  model.predict_generator(pred_gen(test, 64), steps=test_size)\n",
    "  .argmax(axis=1)\n",
    "  .reshape(-1, 8, 8)\n",
    ")"
   ]
  },
  {
   "cell_type": "code",
   "execution_count": 32,
   "metadata": {},
   "outputs": [
    {
     "name": "stdout",
     "output_type": "stream",
     "text": [
      "Final Accuracy: 0.99833%\n"
     ]
    }
   ],
   "source": [
    "pred_fens = np.array([fen_from_onehot(one_hot) for one_hot in res])\n",
    "test_fens = np.array([fen_from_filename(fn) for fn in test])\n",
    "\n",
    "final_accuracy = (pred_fens == test_fens).astype(float).mean()\n",
    "\n",
    "print(\"Final Accuracy: {:1.5f}%\".format(final_accuracy))"
   ]
  },
  {
   "cell_type": "code",
   "execution_count": 33,
   "metadata": {},
   "outputs": [],
   "source": [
    "model_json = model.to_json()\n",
    "with open(\"models/model_cnn_1.json\", \"w\") as json_file:\n",
    "    json_file.write(model_json)"
   ]
  },
  {
   "cell_type": "code",
   "execution_count": 34,
   "metadata": {},
   "outputs": [
    {
     "name": "stdout",
     "output_type": "stream",
     "text": [
      "Saved model to disk\n"
     ]
    }
   ],
   "source": [
    "model.save_weights(\"weights/model_cnn_1.h5\")\n",
    "print(\"Saved model to disk\")"
   ]
  },
  {
   "cell_type": "code",
   "execution_count": null,
   "metadata": {},
   "outputs": [],
   "source": []
  }
 ],
 "metadata": {
  "kernelspec": {
   "display_name": "Python 3",
   "language": "python",
   "name": "python3"
  },
  "language_info": {
   "codemirror_mode": {
    "name": "ipython",
    "version": 3
   },
   "file_extension": ".py",
   "mimetype": "text/x-python",
   "name": "python",
   "nbconvert_exporter": "python",
   "pygments_lexer": "ipython3",
   "version": "3.6.5"
  }
 },
 "nbformat": 4,
 "nbformat_minor": 2
}
